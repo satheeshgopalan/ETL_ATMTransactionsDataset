{
 "cells": [
  {
   "cell_type": "code",
   "execution_count": 24,
   "metadata": {},
   "outputs": [],
   "source": [
    "### USING PYSPARK TO TRANSFORM DATA FETCHED VIA SQOOP AS PER TARGET SCHEMA REQUIREMENT\n",
    "import os\n",
    "import sys\n",
    "os.environ[\"PYSPARK_PYTHON\"] = \"/opt/cloudera/parcels/Anaconda/bin/python\"\n",
    "os.environ[\"JAVA_HOME\"] = \"/usr/java/jdk1.8.0_232-cloudera/jre\"\n",
    "os.environ[\"SPARK_HOME\"]=\"/opt/cloudera/parcels/SPARK2-2.3.0.cloudera2-1.cdh5.13.3.p0.316101/lib/spark2/\"\n",
    "os.environ[\"PYLIB\"] = os.environ[\"SPARK_HOME\"] + \"/python/lib\"\n",
    "sys.path.insert(0, os.environ[\"PYLIB\"] +\"/py4j-0.10.6-src.zip\")\n",
    "sys.path.insert(0, os.environ[\"PYLIB\"] +\"/pyspark.zip\")\n",
    "from pyspark.sql import SparkSession\n",
    "import pandas as pd\n",
    "import numpy as np\n",
    "from pyspark.sql.types import StructType, StructField, IntegerType, StringType, BooleanType, DoubleType, LongType , TimestampType"
   ]
  },
  {
   "cell_type": "code",
   "execution_count": 25,
   "metadata": {},
   "outputs": [
    {
     "data": {
      "text/html": [
       "\n",
       "        <div>\n",
       "            <p><b>SparkContext</b></p>\n",
       "\n",
       "            <p><a href=\"http://ip-10-0-0-254.ec2.internal:4040\">Spark UI</a></p>\n",
       "\n",
       "            <dl>\n",
       "              <dt>Version</dt>\n",
       "                <dd><code>v2.3.0.cloudera2</code></dd>\n",
       "              <dt>Master</dt>\n",
       "                <dd><code>yarn-client</code></dd>\n",
       "              <dt>AppName</dt>\n",
       "                <dd><code>jupyter_Spark</code></dd>\n",
       "            </dl>\n",
       "        </div>\n",
       "        "
      ],
      "text/plain": [
       "<SparkContext master=yarn-client appName=jupyter_Spark>"
      ]
     },
     "execution_count": 25,
     "metadata": {},
     "output_type": "execute_result"
    }
   ],
   "source": [
    "from pyspark import SparkContext, SparkConf\n",
    "conf = SparkConf().setAppName(\"jupyter_Spark\").setMaster(\"yarn-client\")\n",
    "sc = SparkContext.getOrCreate(conf=conf)\n",
    "sc"
   ]
  },
  {
   "cell_type": "code",
   "execution_count": 26,
   "metadata": {},
   "outputs": [
    {
     "data": {
      "text/html": [
       "\n",
       "            <div>\n",
       "                <p><b>SparkSession - hive</b></p>\n",
       "                \n",
       "        <div>\n",
       "            <p><b>SparkContext</b></p>\n",
       "\n",
       "            <p><a href=\"http://ip-10-0-0-254.ec2.internal:4040\">Spark UI</a></p>\n",
       "\n",
       "            <dl>\n",
       "              <dt>Version</dt>\n",
       "                <dd><code>v2.3.0.cloudera2</code></dd>\n",
       "              <dt>Master</dt>\n",
       "                <dd><code>yarn-client</code></dd>\n",
       "              <dt>AppName</dt>\n",
       "                <dd><code>jupyter_Spark</code></dd>\n",
       "            </dl>\n",
       "        </div>\n",
       "        \n",
       "            </div>\n",
       "        "
      ],
      "text/plain": [
       "<pyspark.sql.session.SparkSession at 0x7f48300d60d0>"
      ]
     },
     "execution_count": 26,
     "metadata": {},
     "output_type": "execute_result"
    }
   ],
   "source": [
    "from pyspark.sql import SparkSession\n",
    "spark = SparkSession.builder.appName('etl').master(\"local\").getOrCreate()\n",
    "spark"
   ]
  },
  {
   "cell_type": "code",
   "execution_count": 27,
   "metadata": {},
   "outputs": [],
   "source": [
    "### Create StructType according to target Schema\n",
    "SourceSchema = StructType([StructField('year',IntegerType(),True),\n",
    "                        StructField('month',StringType(),True),\n",
    "                        StructField('day',IntegerType(),True),\n",
    "                        StructField('weekday',StringType(),True),\n",
    "                        StructField('hour',IntegerType(),True),\n",
    "                        StructField('atm_status',StringType(),True),\n",
    "                        StructField('atm_id',StringType(),True),\n",
    "                        StructField('atm_manufacturer',StringType(),True),\n",
    "                        StructField('atm_location',StringType(),True),\n",
    "                        StructField('atm_streetname',StringType(),True),\n",
    "                        StructField('atm_street_number',IntegerType(),True),\n",
    "                        StructField('atm_zipcode',IntegerType(),True),\n",
    "                        StructField('atm_lat',DoubleType(),True),\n",
    "                        StructField('atm_lon',DoubleType(),True),\n",
    "                        StructField('currency',StringType(),True),\n",
    "                        StructField('card_type',StringType(),True),\n",
    "                        StructField('transaction_amount',IntegerType(),True), \n",
    "                        StructField('service',StringType(),True),\n",
    "                        StructField('message_code',StringType(),True),\n",
    "                        StructField('message_text',StringType(),True),\n",
    "                        StructField('weather_lat',DoubleType(),True),\n",
    "                        StructField('weather_lon',DoubleType(),True),\n",
    "                        StructField('weather_city_id',IntegerType(),True),\n",
    "                        StructField('weather_city_name',StringType(),True), \n",
    "                        StructField('temp',DoubleType(),True),\n",
    "                        StructField('pressure',IntegerType(),True),\n",
    "                        StructField('humidity',IntegerType(),True),\n",
    "                        StructField('wind_speed',IntegerType(),True),\n",
    "                        StructField('wind_deg',IntegerType(),True),\n",
    "                        StructField('rain_3h',DoubleType(),True),\n",
    "                        StructField('clouds_all',IntegerType(),True),\n",
    "                        StructField('weather_id',IntegerType(),True),\n",
    "                        StructField('weather_main',StringType(),True),\n",
    "                        StructField('weather_description',StringType(),True)])                               "
   ]
  },
  {
   "cell_type": "code",
   "execution_count": 28,
   "metadata": {},
   "outputs": [],
   "source": [
    "#df=spark.read(\"source/part-m-00000\",schema=SourceSchema).option(\"quote\",'').format(\"csv\")\n",
    "df=spark.read.format(\"csv\").option(\"quote\", \"\").option(\"ignoreLeadingWhiteSpace\",\"true\").load(\"source/part-m-00000\",schema=SourceSchema)\n",
    "\n",
    "###Note :  Fixing the issue with \" on the field message_text while loading the data to df using option(\"quote\", \"\")"
   ]
  },
  {
   "cell_type": "code",
   "execution_count": 29,
   "metadata": {},
   "outputs": [
    {
     "name": "stdout",
     "output_type": "stream",
     "text": [
      "+----+-------+---+-------+----+----------+------+----------------+------------+-------------------+-----------------+-----------+-------+-------+--------+----------+------------------+----------+------------+------------+-----------+-----------+---------------+-----------------+------+--------+--------+----------+--------+-------+----------+----------+------------+--------------------+\n",
      "|year|  month|day|weekday|hour|atm_status|atm_id|atm_manufacturer|atm_location|     atm_streetname|atm_street_number|atm_zipcode|atm_lat|atm_lon|currency| card_type|transaction_amount|   service|message_code|message_text|weather_lat|weather_lon|weather_city_id|weather_city_name|  temp|pressure|humidity|wind_speed|wind_deg|rain_3h|clouds_all|weather_id|weather_main| weather_description|\n",
      "+----+-------+---+-------+----+----------+------+----------------+------------+-------------------+-----------------+-----------+-------+-------+--------+----------+------------------+----------+------------+------------+-----------+-----------+---------------+-----------------+------+--------+--------+----------+--------+-------+----------+----------+------------+--------------------+\n",
      "|2017|January|  1| Sunday|   0|    Active|     1|             NCR|  NÃƒÂ¦stved|        Farimagsvej|                8|       4700| 55.233| 11.763|     DKK|MasterCard|              5643|Withdrawal|        null|        null|      55.23|     11.761|        2616038|         Naestved|281.15|    1014|      87|         7|     260|  0.215|        92|       500|        Rain|          light rain|\n",
      "|2017|January|  1| Sunday|   0|  Inactive|     2|             NCR|    Vejgaard|         Hadsundvej|               20|       9000| 57.043|   9.95|     DKK|MasterCard|              1764|Withdrawal|        null|        null|     57.048|      9.935|        2616235|   NÃƒÂ¸rresundby|280.64|    1020|      93|         9|     250|   0.59|        92|       500|        Rain|          light rain|\n",
      "|2017|January|  1| Sunday|   0|  Inactive|     2|             NCR|    Vejgaard|         Hadsundvej|               20|       9000| 57.043|   9.95|     DKK|      VISA|              1891|Withdrawal|        null|        null|     57.048|      9.935|        2616235|   NÃƒÂ¸rresundby|280.64|    1020|      93|         9|     250|   0.59|        92|       500|        Rain|          light rain|\n",
      "|2017|January|  1| Sunday|   0|  Inactive|     3|             NCR|       Ikast|RÃƒÂ¥dhusstrÃƒÂ¦det|               12|       7430| 56.139|  9.154|     DKK|      VISA|              4166|Withdrawal|        null|        null|     56.139|      9.158|        2619426|            Ikast|281.15|    1011|     100|         6|     240|    0.0|        75|       300|     Drizzle|light intensity d...|\n",
      "+----+-------+---+-------+----+----------+------+----------------+------------+-------------------+-----------------+-----------+-------+-------+--------+----------+------------------+----------+------------+------------+-----------+-----------+---------------+-----------------+------+--------+--------+----------+--------+-------+----------+----------+------------+--------------------+\n",
      "only showing top 4 rows\n",
      "\n"
     ]
    }
   ],
   "source": [
    "df.show(4)"
   ]
  },
  {
   "cell_type": "code",
   "execution_count": 30,
   "metadata": {},
   "outputs": [
    {
     "data": {
      "text/plain": [
       "2468572"
      ]
     },
     "execution_count": 30,
     "metadata": {},
     "output_type": "execute_result"
    }
   ],
   "source": [
    "### Validating Counts\n",
    "df.count()"
   ]
  },
  {
   "cell_type": "code",
   "execution_count": 31,
   "metadata": {},
   "outputs": [
    {
     "data": {
      "text/plain": [
       "8685"
      ]
     },
     "execution_count": 31,
     "metadata": {},
     "output_type": "execute_result"
    }
   ],
   "source": [
    "DIM_DATE_raw=df.select(\"year\",\"month\",\"day\",\"hour\",\"weekday\").distinct()\n",
    "DIM_DATE_raw.count()"
   ]
  },
  {
   "cell_type": "code",
   "execution_count": 32,
   "metadata": {},
   "outputs": [
    {
     "data": {
      "text/plain": [
       "12"
      ]
     },
     "execution_count": 32,
     "metadata": {},
     "output_type": "execute_result"
    }
   ],
   "source": [
    "DIM_CARD_TYPE_raw=df.select(\"card_type\").distinct()\n",
    "DIM_CARD_TYPE_raw.count()"
   ]
  },
  {
   "cell_type": "code",
   "execution_count": 33,
   "metadata": {},
   "outputs": [
    {
     "data": {
      "text/plain": [
       "113"
      ]
     },
     "execution_count": 33,
     "metadata": {},
     "output_type": "execute_result"
    }
   ],
   "source": [
    "DIM_ATM_raw=df.select(\"atm_id\",\"atm_manufacturer\",\"atm_location\",\"atm_streetname\",\"atm_lat\",\"atm_lon\").distinct()\n",
    "DIM_ATM_raw.count()"
   ]
  },
  {
   "cell_type": "code",
   "execution_count": 34,
   "metadata": {},
   "outputs": [
    {
     "data": {
      "text/plain": [
       "109"
      ]
     },
     "execution_count": 34,
     "metadata": {},
     "output_type": "execute_result"
    }
   ],
   "source": [
    "DIM_LOCATION_raw=df.select(\"atm_location\",\"atm_streetname\",\"atm_street_number\",\"atm_zipcode\",\"atm_lat\",\"atm_lon\").distinct()\n",
    "DIM_LOCATION_raw.count()"
   ]
  },
  {
   "cell_type": "code",
   "execution_count": 35,
   "metadata": {},
   "outputs": [
    {
     "data": {
      "text/plain": [
       "2468572"
      ]
     },
     "execution_count": 35,
     "metadata": {},
     "output_type": "execute_result"
    }
   ],
   "source": [
    "FACT_ATM_TRANS_raw=df.select(\"year\",\"month\",\"day\",\"hour\",\"card_type\",\"atm_id\",\"atm_manufacturer\",\"atm_location\",\"atm_streetname\",\"atm_street_number\",\"atm_zipcode\",\"atm_lat\",\"atm_lon\",\"atm_status\",\"currency\",\"service\",\"transaction_amount\",\"message_code\",\"message_text\",\"rain_3h\",\"clouds_all\",\"weather_id\",\"weather_main\",\"weather_description\")\n",
    "FACT_ATM_TRANS_raw.count()"
   ]
  },
  {
   "cell_type": "code",
   "execution_count": 36,
   "metadata": {},
   "outputs": [],
   "source": [
    "### RENAME atm_id to atm_number. atm_id will be generated later.\n",
    "DIM_ATM_renamed = DIM_ATM_raw.withColumnRenamed(\"atm_id\",\"atm_number\")\n",
    "FACT_ATM_TRANS_raw=FACT_ATM_TRANS_raw.withColumnRenamed(\"atm_id\",\"atm_number\")"
   ]
  },
  {
   "cell_type": "code",
   "execution_count": 37,
   "metadata": {},
   "outputs": [],
   "source": [
    "### generate *_id's \n",
    "from pyspark.sql.functions import desc, row_number, monotonically_increasing_id\n",
    "from pyspark.sql.window import Window\n",
    "DIM_DATE = DIM_DATE_raw.withColumn('date_id', row_number().over(Window.orderBy(monotonically_increasing_id())))\n",
    "DIM_CARD_TYPE = DIM_CARD_TYPE_raw.withColumn('card_id', row_number().over(Window.orderBy(monotonically_increasing_id())))\n",
    "DIM_ATM = DIM_ATM_renamed.withColumn('atm_id', row_number().over(Window.orderBy(monotonically_increasing_id())))\n",
    "DIM_LOCATION = DIM_LOCATION_raw.withColumn('location_id', row_number().over(Window.orderBy(monotonically_increasing_id())))\n",
    "FACT_ATM_TRANS = FACT_ATM_TRANS_raw.withColumn('trans_id', row_number().over(Window.orderBy(monotonically_increasing_id())))"
   ]
  },
  {
   "cell_type": "code",
   "execution_count": 38,
   "metadata": {},
   "outputs": [
    {
     "name": "stdout",
     "output_type": "stream",
     "text": [
      "+----+-----+---+----+--------+-------+\n",
      "|year|month|day|hour| weekday|date_id|\n",
      "+----+-----+---+----+--------+-------+\n",
      "|2017| July| 18|   9| Tuesday|      1|\n",
      "|2017| July| 18|  22| Tuesday|      2|\n",
      "|2017| July| 20|   0|Thursday|      3|\n",
      "+----+-----+---+----+--------+-------+\n",
      "only showing top 3 rows\n",
      "\n"
     ]
    }
   ],
   "source": [
    "DIM_DATE.show(3)"
   ]
  },
  {
   "cell_type": "code",
   "execution_count": 39,
   "metadata": {},
   "outputs": [
    {
     "name": "stdout",
     "output_type": "stream",
     "text": [
      "+---------------+-------+\n",
      "|      card_type|card_id|\n",
      "+---------------+-------+\n",
      "|Dankort - on-us|      1|\n",
      "|         CIRRUS|      2|\n",
      "|    HÃƒÂ¦vekort|      3|\n",
      "+---------------+-------+\n",
      "only showing top 3 rows\n",
      "\n"
     ]
    }
   ],
   "source": [
    "DIM_CARD_TYPE.show(3)"
   ]
  },
  {
   "cell_type": "code",
   "execution_count": 40,
   "metadata": {},
   "outputs": [
    {
     "name": "stdout",
     "output_type": "stream",
     "text": [
      "+----------+----------------+------------+----------------+-------+-------+------+\n",
      "|atm_number|atm_manufacturer|atm_location|  atm_streetname|atm_lat|atm_lon|atm_id|\n",
      "+----------+----------------+------------+----------------+-------+-------+------+\n",
      "|        57|             NCR| HillerÃƒÂ¸d|KÃƒÂ¸benhavnsvej| 55.933| 12.314|     1|\n",
      "|        17|             NCR|     Randers|    ÃƒËœstervold| 56.462| 10.038|     2|\n",
      "|        23| Diebold Nixdorf|     Vodskov|      Vodskovvej| 57.104| 10.027|     3|\n",
      "+----------+----------------+------------+----------------+-------+-------+------+\n",
      "only showing top 3 rows\n",
      "\n"
     ]
    }
   ],
   "source": [
    "DIM_ATM.show(3)"
   ]
  },
  {
   "cell_type": "code",
   "execution_count": 41,
   "metadata": {},
   "outputs": [
    {
     "name": "stdout",
     "output_type": "stream",
     "text": [
      "+------------+----------------+-----------------+-----------+-------+-------+-----------+\n",
      "|atm_location|  atm_streetname|atm_street_number|atm_zipcode|atm_lat|atm_lon|location_id|\n",
      "+------------+----------------+-----------------+-----------+-------+-------+-----------+\n",
      "|       Vadum|  Ellehammersvej|               43|       9430| 57.118|  9.861|          1|\n",
      "|    Slagelse| Mariendals Alle|               29|       4200| 55.398| 11.342|          2|\n",
      "|  Fredericia|SjÃƒÂ¦llandsgade|               33|       7000| 55.564|  9.757|          3|\n",
      "+------------+----------------+-----------------+-----------+-------+-------+-----------+\n",
      "only showing top 3 rows\n",
      "\n"
     ]
    }
   ],
   "source": [
    "DIM_LOCATION.show(3)"
   ]
  },
  {
   "cell_type": "code",
   "execution_count": 42,
   "metadata": {
    "scrolled": true
   },
   "outputs": [
    {
     "name": "stdout",
     "output_type": "stream",
     "text": [
      "+----+-------+---+----+----------+----------+----------------+------------+--------------+-----------------+-----------+-------+-------+----------+--------+----------+------------------+------------+------------+-------+----------+----------+------------+-------------------+--------+\n",
      "|year|  month|day|hour| card_type|atm_number|atm_manufacturer|atm_location|atm_streetname|atm_street_number|atm_zipcode|atm_lat|atm_lon|atm_status|currency|   service|transaction_amount|message_code|message_text|rain_3h|clouds_all|weather_id|weather_main|weather_description|trans_id|\n",
      "+----+-------+---+----+----------+----------+----------------+------------+--------------+-----------------+-----------+-------+-------+----------+--------+----------+------------------+------------+------------+-------+----------+----------+------------+-------------------+--------+\n",
      "|2017|January|  1|   0|MasterCard|         1|             NCR|  NÃƒÂ¦stved|   Farimagsvej|                8|       4700| 55.233| 11.763|    Active|     DKK|Withdrawal|              5643|        null|        null|  0.215|        92|       500|        Rain|         light rain|       1|\n",
      "|2017|January|  1|   0|MasterCard|         2|             NCR|    Vejgaard|    Hadsundvej|               20|       9000| 57.043|   9.95|  Inactive|     DKK|Withdrawal|              1764|        null|        null|   0.59|        92|       500|        Rain|         light rain|       2|\n",
      "|2017|January|  1|   0|      VISA|         2|             NCR|    Vejgaard|    Hadsundvej|               20|       9000| 57.043|   9.95|  Inactive|     DKK|Withdrawal|              1891|        null|        null|   0.59|        92|       500|        Rain|         light rain|       3|\n",
      "+----+-------+---+----+----------+----------+----------------+------------+--------------+-----------------+-----------+-------+-------+----------+--------+----------+------------------+------------+------------+-------+----------+----------+------------+-------------------+--------+\n",
      "only showing top 3 rows\n",
      "\n"
     ]
    }
   ],
   "source": [
    "FACT_ATM_TRANS.show(3)"
   ]
  },
  {
   "cell_type": "code",
   "execution_count": 43,
   "metadata": {},
   "outputs": [
    {
     "name": "stdout",
     "output_type": "stream",
     "text": [
      "+----+-----+---+----+-------+-------+-------------------+\n",
      "|year|month|day|hour|weekday|date_id|     full_date_time|\n",
      "+----+-----+---+----+-------+-------+-------------------+\n",
      "|2017|  Jan|  1|   9| Sunday|      1|2017-01-01 09:00:00|\n",
      "|2017|  Jan|  3|   5|Tuesday|      2|2017-01-03 05:00:00|\n",
      "|2017|  Jan|  8|  19| Sunday|      3|2017-01-08 07:00:00|\n",
      "+----+-----+---+----+-------+-------+-------------------+\n",
      "only showing top 3 rows\n",
      "\n"
     ]
    }
   ],
   "source": [
    "### Create TimeStamp in Date Dimention Table from year,month,date and hour\n",
    "from pyspark.sql.functions import *\n",
    "### Convert month into numeric format\n",
    "DIM_DATE=DIM_DATE.withColumn(\"month\",from_unixtime(unix_timestamp(col(\"month\"),'MMM'),'MM'))\n",
    "from pyspark.sql import functions as func\n",
    "cols=[\"year\",\"month\",\"day\"]\n",
    "DIM_DATE=DIM_DATE.withColumn(\"date\",concat_ws(\"-\",*cols).cast(\"date\"))\n",
    "### Create full_date_time from date and hour \n",
    "DIM_DATE=DIM_DATE.withColumn(\"full_date_time\",func.date_format(func.to_timestamp(func.concat(\"date\",\"hour\"),\"yyyy-MM-ddHH\"),\"yyyy-MM-dd hh:ss:SSa\"))\n",
    "#Dropped extra field \n",
    "DIM_DATE=DIM_DATE.drop(\"date\")\n",
    "###revert the month from numeric back to string\n",
    "DIM_DATE=DIM_DATE.withColumn(\"month\",from_unixtime(unix_timestamp(col(\"month\"),'MM'),'MMM'))\n",
    "DIM_DATE=DIM_DATE.withColumn('full_date_time',func.unix_timestamp('full_date_time','yyyy-MM-dd HH:mm:ss').cast(TimestampType()))\n",
    "DIM_DATE.show(3)"
   ]
  },
  {
   "cell_type": "code",
   "execution_count": 44,
   "metadata": {},
   "outputs": [
    {
     "name": "stdout",
     "output_type": "stream",
     "text": [
      "+----+-----+---+----+----------+----------+----------------+------------+--------------+-----------------+-----------+-------+-------+----------+--------+----------+------------------+------------+------------+-------+----------+----------+------------+-------------------+--------+\n",
      "|year|month|day|hour| card_type|atm_number|atm_manufacturer|atm_location|atm_streetname|atm_street_number|atm_zipcode|atm_lat|atm_lon|atm_status|currency|   service|transaction_amount|message_code|message_text|rain_3h|clouds_all|weather_id|weather_main|weather_description|trans_id|\n",
      "+----+-----+---+----+----------+----------+----------------+------------+--------------+-----------------+-----------+-------+-------+----------+--------+----------+------------------+------------+------------+-------+----------+----------+------------+-------------------+--------+\n",
      "|2017|  Jan|  1|   0|MasterCard|         1|             NCR|  NÃƒÂ¦stved|   Farimagsvej|                8|       4700| 55.233| 11.763|    Active|     DKK|Withdrawal|              5643|        null|        null|  0.215|        92|       500|        Rain|         light rain|       1|\n",
      "|2017|  Jan|  1|   0|MasterCard|         2|             NCR|    Vejgaard|    Hadsundvej|               20|       9000| 57.043|   9.95|  Inactive|     DKK|Withdrawal|              1764|        null|        null|   0.59|        92|       500|        Rain|         light rain|       2|\n",
      "|2017|  Jan|  1|   0|      VISA|         2|             NCR|    Vejgaard|    Hadsundvej|               20|       9000| 57.043|   9.95|  Inactive|     DKK|Withdrawal|              1891|        null|        null|   0.59|        92|       500|        Rain|         light rain|       3|\n",
      "+----+-----+---+----+----------+----------+----------------+------------+--------------+-----------------+-----------+-------+-------+----------+--------+----------+------------------+------------+------------+-------+----------+----------+------------+-------------------+--------+\n",
      "only showing top 3 rows\n",
      "\n"
     ]
    }
   ],
   "source": [
    "### Perform the same transformation on FACT_ATM_TRANS as in DIM_DATE for the upcoming join function\n",
    "### Needed because in DIM_DATE the transformation is Jaunary ---> 01 ---> Jan\n",
    "FACT_ATM_TRANS=FACT_ATM_TRANS.withColumn(\"month\",from_unixtime(unix_timestamp(col(\"month\"),'MMM'),'MM'))\n",
    "FACT_ATM_TRANS=FACT_ATM_TRANS.withColumn(\"month\",from_unixtime(unix_timestamp(col(\"month\"),'MM'),'MMM'))\n",
    "FACT_ATM_TRANS.show(3)"
   ]
  },
  {
   "cell_type": "code",
   "execution_count": 45,
   "metadata": {},
   "outputs": [],
   "source": [
    "### REARRANGING COLUMNS [ Dimensions Table]\n",
    "DIM_DATE = DIM_DATE.select(\"date_id\",\"full_date_time\",\"year\",\"month\",\"day\",\"hour\",\"weekday\")\n",
    "DIM_CARD_TYPE = DIM_CARD_TYPE.select(\"card_id\",\"card_type\")\n",
    "DIM_ATM = DIM_ATM.select(\"atm_id\",\"atm_number\",\"atm_manufacturer\",\"atm_location\",\"atm_streetname\",\"atm_lat\",\"atm_lon\")\n",
    "DIM_LOCATION = DIM_LOCATION.select(\"location_id\",\"atm_location\",\"atm_streetname\",\"atm_street_number\",\"atm_zipcode\",\"atm_lat\",\"atm_lon\")"
   ]
  },
  {
   "cell_type": "code",
   "execution_count": 46,
   "metadata": {},
   "outputs": [
    {
     "name": "stdout",
     "output_type": "stream",
     "text": [
      "+----+-----+---+----+------------------+----------+----------------+------------+--------------+-----------------+-----------+-------+-------+----------+--------+----------+------------------+------------+------------+-------+----------+----------+------------+--------------------+--------+-------+-------------------+--------+\n",
      "|year|month|day|hour|         card_type|atm_number|atm_manufacturer|atm_location|atm_streetname|atm_street_number|atm_zipcode|atm_lat|atm_lon|atm_status|currency|   service|transaction_amount|message_code|message_text|rain_3h|clouds_all|weather_id|weather_main| weather_description|trans_id|date_id|     full_date_time| weekday|\n",
      "+----+-----+---+----+------------------+----------+----------------+------------+--------------+-----------------+-----------+-------+-------+----------+--------+----------+------------------+------------+------------+-------+----------+----------+------------+--------------------+--------+-------+-------------------+--------+\n",
      "|2017|  Apr|  1|   0|      Visa Dankort|        16|             NCR|       Skive|      Adelgade|                8|       7800| 56.567|  9.027|  Inactive|     DKK|Withdrawal|              2725|        null|        null|    0.0|        68|       520|        Rain|light intensity s...|  572441|   1846|2017-04-01 12:00:00|Saturday|\n",
      "|2017|  Apr|  1|   0|        MasterCard|        85| Diebold Nixdorf|KÃƒÂ¸benhavn|Regnbuepladsen|                5|       1550| 55.676| 12.571|    Active|     DKK|Withdrawal|              5543|        null|        null|    0.0|        48|       701|        Mist|                mist|  572442|   1846|2017-04-01 12:00:00|Saturday|\n",
      "|2017|  Apr|  1|   0|Mastercard - on-us|        36|             NCR| HjÃƒÂ¸rring|  ÃƒËœstergade|                8|       9800| 57.459|  9.988|    Active|     DKK|Withdrawal|              9539|        null|        null|  0.243|        92|       500|        Rain|          light rain|  572443|   1846|2017-04-01 12:00:00|Saturday|\n",
      "+----+-----+---+----+------------------+----------+----------------+------------+--------------+-----------------+-----------+-------+-------+----------+--------+----------+------------------+------------+------------+-------+----------+----------+------------+--------------------+--------+-------+-------------------+--------+\n",
      "only showing top 3 rows\n",
      "\n"
     ]
    }
   ],
   "source": [
    "### Perform join to import *_id's to FACT_ATM_TRANS\n",
    "FACT_ATM_TRANS=FACT_ATM_TRANS.join(DIM_DATE,on=['year','month','day','hour'],how=\"left\")\n",
    "FACT_ATM_TRANS.show(3)\n",
    "FACT_ATM_TRANS=FACT_ATM_TRANS.join(DIM_CARD_TYPE,on=['card_type'],how=\"left\")\n",
    "FACT_ATM_TRANS=FACT_ATM_TRANS.join(DIM_ATM,on=['atm_number','atm_manufacturer'],how=\"left\")\n",
    "FACT_ATM_TRANS=FACT_ATM_TRANS.join(DIM_LOCATION,on=['atm_location','atm_streetname','atm_lat','atm_lon'],how=\"left\")"
   ]
  },
  {
   "cell_type": "code",
   "execution_count": 47,
   "metadata": {},
   "outputs": [],
   "source": [
    "FACT_ATM_TRANS.drop(\"year\",\"month\",\"day\",\"hour\",\"card_type\",\"atm_number\",\"atm_manufacturer\",\"atm_location\",\"atm_streetname\",\"atm_street_number\",\"atm_zipcode\",\"atm_lat\",\"atm_lon\")\n",
    "###Rearranging Fact table and rename columns per target schema\n",
    "FACT_ATM_TRANS = FACT_ATM_TRANS.select(\"trans_id\",\"atm_id\",\"location_id\",\"date_id\",\"card_id\",\"atm_status\",\"currency\",\"service\",\"transaction_amount\",\"message_code\",\"message_text\",\"rain_3h\",\"clouds_all\",\"weather_id\",\"weather_main\",\"weather_description\")\n",
    "FACT_ATM_TRANS=FACT_ATM_TRANS.withColumnRenamed(\"location_id\",\"weather_loc_id\")\n",
    "FACT_ATM_TRANS=FACT_ATM_TRANS.withColumnRenamed(\"card_id\",\"card_type_id\")"
   ]
  },
  {
   "cell_type": "code",
   "execution_count": 48,
   "metadata": {},
   "outputs": [],
   "source": [
    "### Perform join to import location_id to DIM_ATM\n",
    "DIM_ATM=DIM_ATM.join(DIM_LOCATION,on=['atm_location','atm_streetname','atm_lat','atm_lon'],how=\"left\")\n",
    "DIM_ATM=DIM_ATM.select(\"atm_id\",\"atm_number\",\"atm_manufacturer\",\"location_id\")\n",
    "DIM_ATM=DIM_ATM.withColumnRenamed(\"location_id\",\"atm_location_id\")"
   ]
  },
  {
   "cell_type": "code",
   "execution_count": 49,
   "metadata": {},
   "outputs": [],
   "source": [
    "### Rename according to target schema\n",
    "DIM_LOCATION=DIM_LOCATION.withColumnRenamed(\"atm_location\",\"location\")\n",
    "DIM_LOCATION=DIM_LOCATION.withColumnRenamed(\"atm_streetname\",\"streetname\")\n",
    "DIM_LOCATION=DIM_LOCATION.withColumnRenamed(\"atm_zipcode\",\"zipcode\")\n",
    "DIM_LOCATION=DIM_LOCATION.withColumnRenamed(\"atm_lat\",\"lat\")\n",
    "DIM_LOCATION=DIM_LOCATION.withColumnRenamed(\"atm_lon\",\"lon\")"
   ]
  },
  {
   "cell_type": "code",
   "execution_count": 50,
   "metadata": {},
   "outputs": [
    {
     "name": "stdout",
     "output_type": "stream",
     "text": [
      "root\n",
      " |-- date_id: integer (nullable = true)\n",
      " |-- full_date_time: timestamp (nullable = true)\n",
      " |-- year: integer (nullable = true)\n",
      " |-- month: string (nullable = true)\n",
      " |-- day: integer (nullable = true)\n",
      " |-- hour: integer (nullable = true)\n",
      " |-- weekday: string (nullable = true)\n",
      "\n",
      "root\n",
      " |-- atm_id: integer (nullable = true)\n",
      " |-- atm_number: string (nullable = true)\n",
      " |-- atm_manufacturer: string (nullable = true)\n",
      " |-- atm_location_id: integer (nullable = true)\n",
      "\n",
      "root\n",
      " |-- location_id: integer (nullable = true)\n",
      " |-- location: string (nullable = true)\n",
      " |-- streetname: string (nullable = true)\n",
      " |-- atm_street_number: integer (nullable = true)\n",
      " |-- zipcode: integer (nullable = true)\n",
      " |-- lat: double (nullable = true)\n",
      " |-- lon: double (nullable = true)\n",
      "\n",
      "root\n",
      " |-- card_id: integer (nullable = true)\n",
      " |-- card_type: string (nullable = true)\n",
      "\n",
      "root\n",
      " |-- trans_id: integer (nullable = true)\n",
      " |-- atm_id: integer (nullable = true)\n",
      " |-- weather_loc_id: integer (nullable = true)\n",
      " |-- date_id: integer (nullable = true)\n",
      " |-- card_type_id: integer (nullable = true)\n",
      " |-- atm_status: string (nullable = true)\n",
      " |-- currency: string (nullable = true)\n",
      " |-- service: string (nullable = true)\n",
      " |-- transaction_amount: integer (nullable = true)\n",
      " |-- message_code: string (nullable = true)\n",
      " |-- message_text: string (nullable = true)\n",
      " |-- rain_3h: double (nullable = true)\n",
      " |-- clouds_all: integer (nullable = true)\n",
      " |-- weather_id: integer (nullable = true)\n",
      " |-- weather_main: string (nullable = true)\n",
      " |-- weather_description: string (nullable = true)\n",
      "\n"
     ]
    }
   ],
   "source": [
    "### Verify the columns - per target schema\n",
    "DIM_DATE.printSchema()\n",
    "DIM_ATM.printSchema()\n",
    "DIM_LOCATION.printSchema()\n",
    "DIM_CARD_TYPE.printSchema()\n",
    "FACT_ATM_TRANS.printSchema()"
   ]
  },
  {
   "cell_type": "code",
   "execution_count": 51,
   "metadata": {},
   "outputs": [
    {
     "data": {
      "text/plain": [
       "8685"
      ]
     },
     "execution_count": 51,
     "metadata": {},
     "output_type": "execute_result"
    }
   ],
   "source": [
    "### validating final counts \n",
    "DIM_DATE.count()"
   ]
  },
  {
   "cell_type": "code",
   "execution_count": 52,
   "metadata": {},
   "outputs": [
    {
     "data": {
      "text/plain": [
       "113"
      ]
     },
     "execution_count": 52,
     "metadata": {},
     "output_type": "execute_result"
    }
   ],
   "source": [
    "DIM_ATM.count()"
   ]
  },
  {
   "cell_type": "code",
   "execution_count": 53,
   "metadata": {},
   "outputs": [
    {
     "data": {
      "text/plain": [
       "109"
      ]
     },
     "execution_count": 53,
     "metadata": {},
     "output_type": "execute_result"
    }
   ],
   "source": [
    "DIM_LOCATION.count()"
   ]
  },
  {
   "cell_type": "code",
   "execution_count": 54,
   "metadata": {},
   "outputs": [
    {
     "data": {
      "text/plain": [
       "12"
      ]
     },
     "execution_count": 54,
     "metadata": {},
     "output_type": "execute_result"
    }
   ],
   "source": [
    "DIM_CARD_TYPE.count()"
   ]
  },
  {
   "cell_type": "code",
   "execution_count": 55,
   "metadata": {},
   "outputs": [
    {
     "data": {
      "text/plain": [
       "2468572"
      ]
     },
     "execution_count": 55,
     "metadata": {},
     "output_type": "execute_result"
    }
   ],
   "source": [
    "FACT_ATM_TRANS.count()"
   ]
  },
  {
   "cell_type": "code",
   "execution_count": 56,
   "metadata": {},
   "outputs": [],
   "source": [
    "### Write to HDFS\n",
    "#DIM_DATE.write.csv('dim_date')\n",
    "#DIM_ATM.write.csv('dim_atm')\n",
    "#DIM_LOCATION.write.csv('dim_location')\n",
    "#DIM_CARD_TYPE.write.csv('dim_card_type')\n",
    "#FACT_ATM_TRANS.write.csv('fact_atm_trans')\n",
    "\n",
    "\n",
    "### Write to S3 , access key and secret key was configured in spark-defaults.conf\n",
    "DIM_DATE.write.csv('s3a://satheeshgopalan/dim_date/')\n",
    "DIM_ATM.write.csv('s3a://satheeshgopalan/dim_atm/')\n",
    "DIM_LOCATION.write.csv('s3a://satheeshgopalan/dim_location/')\n",
    "DIM_CARD_TYPE.write.csv('s3a://satheeshgopalan/dim_card_type/')\n",
    "FACT_ATM_TRANS.write.csv('s3a://satheeshgopalan/fact_atm_trans/')"
   ]
  },
  {
   "cell_type": "code",
   "execution_count": null,
   "metadata": {},
   "outputs": [],
   "source": []
  }
 ],
 "metadata": {
  "kernelspec": {
   "display_name": "Python 2",
   "language": "python",
   "name": "python2"
  },
  "language_info": {
   "codemirror_mode": {
    "name": "ipython",
    "version": 2
   },
   "file_extension": ".py",
   "mimetype": "text/x-python",
   "name": "python",
   "nbconvert_exporter": "python",
   "pygments_lexer": "ipython2",
   "version": "2.7.16"
  }
 },
 "nbformat": 4,
 "nbformat_minor": 2
}
